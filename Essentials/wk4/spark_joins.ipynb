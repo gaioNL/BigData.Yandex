{
 "cells": [
  {
   "cell_type": "code",
   "execution_count": null,
   "metadata": {},
   "outputs": [],
   "source": [
    "%%writefile nasdaq.csv\n",
    "2017-01-03,7329,8520,6000,8777,6787,2725\n",
    "2017-01-04,6604,6774,4204,5534,6082,4417\n",
    "...\n",
    "2019-09-28,8996,8620,9972,9564,7215,9455\n",
    "2019-09-29,6021,7479,1173,5655,8865,4851"
   ]
  },
  {
   "cell_type": "markdown",
   "metadata": {},
   "source": [
    "## Import and parse data"
   ]
  },
  {
   "cell_type": "code",
   "execution_count": 2,
   "metadata": {},
   "outputs": [],
   "source": [
    "from pyspark import SparkConf, SparkContext\n",
    "\n",
    "# Create a Sprark context\n",
    "sc = SparkContext(conf=SparkConf().setAppName(\"MyApp\").setMaster(\"local\"))"
   ]
  },
  {
   "cell_type": "code",
   "execution_count": 3,
   "metadata": {},
   "outputs": [],
   "source": [
    "from collections import namedtuple\n",
    "Record = namedtuple('Record', ['date', 'open', 'high', 'low', 'close', 'adj_close', 'volume'])\n",
    "\n",
    "def parse_record(s):\n",
    "    fields = s.split(',')\n",
    "    return Record(fields[0], float(fields[1]), float(fields[2]), float(fields[3]), float(fields[4]), float(fields[5]), int(fields[6]))"
   ]
  },
  {
   "cell_type": "code",
   "execution_count": 4,
   "metadata": {},
   "outputs": [
    {
     "data": {
      "text/plain": [
       "[Record(date=u'2017-01-03', open=7329.0, high=8520.0, low=6000.0, close=8777.0, adj_close=6787.0, volume=2725),\n",
       " Record(date=u'2017-01-04', open=6604.0, high=6774.0, low=4204.0, close=5534.0, adj_close=6082.0, volume=4417)]"
      ]
     },
     "execution_count": 4,
     "metadata": {},
     "output_type": "execute_result"
    }
   ],
   "source": [
    "parsed_data = sc.textFile('nasdaq.csv').map(parse_record).cache()\n",
    "parsed_data.take(2)"
   ]
  },
  {
   "cell_type": "markdown",
   "metadata": {},
   "source": [
    "## Get next day"
   ]
  },
  {
   "cell_type": "code",
   "execution_count": 5,
   "metadata": {},
   "outputs": [],
   "source": [
    "from datetime import datetime, timedelta\n",
    "\n",
    "def get_next_date(s):\n",
    "    fmt = '%Y-%m-%d'\n",
    "    return (datetime.strptime(s, fmt) + timedelta(days=1)).strftime(fmt)"
   ]
  },
  {
   "cell_type": "code",
   "execution_count": 6,
   "metadata": {},
   "outputs": [
    {
     "data": {
      "text/plain": [
       "'2017-02-01'"
      ]
     },
     "execution_count": 6,
     "metadata": {},
     "output_type": "execute_result"
    }
   ],
   "source": [
    "# test\n",
    "get_next_date('2017-01-31')"
   ]
  },
  {
   "cell_type": "markdown",
   "metadata": {},
   "source": [
    "## join"
   ]
  },
  {
   "cell_type": "code",
   "execution_count": 7,
   "metadata": {},
   "outputs": [
    {
     "data": {
      "text/plain": [
       "[(u'2017-01-03', 8777.0), (u'2017-01-04', 5534.0), (u'2017-01-05', 9760.0)]"
      ]
     },
     "execution_count": 7,
     "metadata": {},
     "output_type": "execute_result"
    }
   ],
   "source": [
    "# date_and_close_price = (date, close price)\n",
    "date_and_close_price = parsed_data.map(lambda r: (r.date, r.close))\n",
    "date_and_close_price.take(3)"
   ]
  },
  {
   "cell_type": "code",
   "execution_count": 8,
   "metadata": {},
   "outputs": [
    {
     "data": {
      "text/plain": [
       "[('2017-01-04', 8777.0), ('2017-01-05', 5534.0), ('2017-01-06', 9760.0)]"
      ]
     },
     "execution_count": 8,
     "metadata": {},
     "output_type": "execute_result"
    }
   ],
   "source": [
    "# date_and_prev_close_price = (date, previous date close price)\n",
    "date_and_prev_close_price = parsed_data.map(lambda r: (get_next_date(r.date), r.close))\n",
    "date_and_prev_close_price.take(3)"
   ]
  },
  {
   "cell_type": "code",
   "execution_count": 9,
   "metadata": {},
   "outputs": [
    {
     "data": {
      "text/plain": [
       "[(u'2018-03-06', (5497.0, 7289.0)),\n",
       " (u'2019-06-08', (3414.0, 2532.0)),\n",
       " (u'2019-06-06', (4919.0, 8851.0))]"
      ]
     },
     "execution_count": 9,
     "metadata": {},
     "output_type": "execute_result"
    }
   ],
   "source": [
    "# join = (date, (date_and_close_price, date_and_prev_close_price))\n",
    "joined = date_and_close_price.join(date_and_prev_close_price)\n",
    "joined.take(3)"
   ]
  },
  {
   "cell_type": "code",
   "execution_count": 10,
   "metadata": {},
   "outputs": [
    {
     "data": {
      "text/plain": [
       "[(5534.0, 8777.0)]"
      ]
     },
     "execution_count": 10,
     "metadata": {},
     "output_type": "execute_result"
    }
   ],
   "source": [
    "# lookup\n",
    "joined.lookup('2017-01-04')"
   ]
  },
  {
   "cell_type": "code",
   "execution_count": 11,
   "metadata": {},
   "outputs": [
    {
     "data": {
      "text/plain": [
       "[(u'2018-03-06', -24.584991082453012),\n",
       " (u'2019-06-08', 34.834123222748815),\n",
       " (u'2019-06-06', -44.424358829510794)]"
      ]
     },
     "execution_count": 11,
     "metadata": {},
     "output_type": "execute_result"
    }
   ],
   "source": [
    "# returns = (date, return = (date_and_close_price/date_and_prev_close_price-1)*100)\n",
    "returns = joined.mapValues(lambda p: (p[0]/p[1]-1.0)*100.0)\n",
    "returns.take(3)"
   ]
  },
  {
   "cell_type": "code",
   "execution_count": 12,
   "metadata": {},
   "outputs": [
    {
     "data": {
      "text/plain": [
       "[-36.94884356841746]"
      ]
     },
     "execution_count": 12,
     "metadata": {},
     "output_type": "execute_result"
    }
   ],
   "source": [
    "returns.lookup('2017-01-04')"
   ]
  },
  {
   "cell_type": "markdown",
   "metadata": {},
   "source": [
    "## Left, right, full outer join"
   ]
  },
  {
   "cell_type": "code",
   "execution_count": 13,
   "metadata": {},
   "outputs": [],
   "source": [
    "# Left outter join\n",
    "joined_left = date_and_close_price.leftOuterJoin(date_and_prev_close_price)"
   ]
  },
  {
   "cell_type": "code",
   "execution_count": 14,
   "metadata": {},
   "outputs": [],
   "source": [
    "# Right outter join\n",
    "joined_right = date_and_close_price.rightOuterJoin(date_and_prev_close_price)"
   ]
  },
  {
   "cell_type": "code",
   "execution_count": 15,
   "metadata": {},
   "outputs": [],
   "source": [
    "# Full outter join\n",
    "joined_full = date_and_close_price.fullOuterJoin(date_and_prev_close_price)"
   ]
  },
  {
   "cell_type": "code",
   "execution_count": 16,
   "metadata": {},
   "outputs": [
    {
     "name": "stdout",
     "output_type": "stream",
     "text": [
      "[]\n",
      "[(8777.0, None)]\n",
      "[]\n",
      "[(8777.0, None)]\n"
     ]
    }
   ],
   "source": [
    "# 1st day\n",
    "print joined.lookup('2017-01-03')\n",
    "print joined_left.lookup('2017-01-03')\n",
    "print joined_right.lookup('2017-01-03')\n",
    "print joined_full.lookup('2017-01-03')"
   ]
  },
  {
   "cell_type": "code",
   "execution_count": 18,
   "metadata": {},
   "outputs": [
    {
     "name": "stdout",
     "output_type": "stream",
     "text": [
      "[]\n",
      "[]\n",
      "[(None, 5655.0)]\n",
      "[(None, 5655.0)]\n"
     ]
    }
   ],
   "source": [
    "# last day\n",
    "print joined.lookup('2019-09-30')\n",
    "print joined_left.lookup('2019-09-30')\n",
    "print joined_right.lookup('2019-09-30')\n",
    "print joined_full.lookup('2019-09-30')"
   ]
  }
 ],
 "metadata": {
  "kernelspec": {
   "display_name": "Python 2",
   "language": "python",
   "name": "python2"
  },
  "language_info": {
   "codemirror_mode": {
    "name": "ipython",
    "version": 2
   },
   "file_extension": ".py",
   "mimetype": "text/x-python",
   "name": "python",
   "nbconvert_exporter": "python",
   "pygments_lexer": "ipython2",
   "version": "2.7.12"
  }
 },
 "nbformat": 4,
 "nbformat_minor": 2
}
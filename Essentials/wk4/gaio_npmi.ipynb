{
 "cells": [
  {
   "cell_type": "code",
   "execution_count": 1,
   "metadata": {},
   "outputs": [],
   "source": [
    "from pyspark import SparkConf, SparkContext\n",
    "sc = SparkContext(conf=SparkConf().setAppName(\"MyApp\").setMaster(\"local\"))\n",
    "\n",
    "import re\n",
    "\n",
    "def parse_article(line):\n",
    "    try:\n",
    "        article_id, text = unicode(line.rstrip()).split('\\t', 1)\n",
    "        text = re.sub(\"^\\W+|\\W+$\", \"\", text, flags=re.UNICODE)\n",
    "        words = re.split(\"\\W*\\s+\\W*\", text, flags=re.UNICODE)\n",
    "        return words\n",
    "    except ValueError as e:\n",
    "        return []"
   ]
  },
  {
   "cell_type": "code",
   "execution_count": null,
   "metadata": {},
   "outputs": [],
   "source": [
    "wiki = sc.textFile(\"/data/wiki/en_articles_part/articles-part\", 16).map(parse_article)\n",
    "result = wiki.take(1)[0]"
   ]
  },
  {
   "cell_type": "code",
   "execution_count": 2,
   "metadata": {},
   "outputs": [
    {
     "name": "stdout",
     "output_type": "stream",
     "text": [
      "Anarchism\n",
      "Anarchism\n",
      "is\n",
      "often\n",
      "defined\n",
      "as\n",
      "a\n",
      "political\n",
      "philosophy\n",
      "which\n"
     ]
    }
   ],
   "source": [
    "for word in result[:10]:\n",
    "    print word"
   ]
  },
  {
   "cell_type": "code",
   "execution_count": 14,
   "metadata": {},
   "outputs": [
    {
     "name": "stdout",
     "output_type": "stream",
     "text": [
      "4100\n"
     ]
    }
   ],
   "source": [
    "#count the words\n",
    "num_words = wiki.count()\n",
    "print(num_words)"
   ]
  },
  {
   "cell_type": "code",
   "execution_count": 3,
   "metadata": {},
   "outputs": [
    {
     "name": "stdout",
     "output_type": "stream",
     "text": [
      "anarchism\n",
      "anarchism\n",
      "is\n",
      "often\n",
      "defined\n",
      "as\n",
      "a\n",
      "political\n",
      "philosophy\n",
      "which\n"
     ]
    }
   ],
   "source": [
    "#transform them to lowercase\n",
    "wiki_flat = wiki.flatMap(lambda x: [x[i].lower() for i in range(0,len(x))])\n",
    "result = wiki_flat.take(10)\n",
    "for word in result[:10]:\n",
    "    print word"
   ]
  },
  {
   "cell_type": "code",
   "execution_count": 7,
   "metadata": {},
   "outputs": [
    {
     "name": "stdout",
     "output_type": "stream",
     "text": [
      "anarchism\n",
      "anarchism\n",
      "defined\n",
      "political\n",
      "philosophy\n",
      "holds\n",
      "state\n",
      "undesirable\n",
      "unnecessary\n",
      "harmful\n"
     ]
    }
   ],
   "source": [
    "#filter out stopwords\n",
    "stop_words = sc.textFile(\"/datasets/stop_words_en.txt\", 16)\n",
    "stop_words_data = stop_words.collect()\n",
    "broadcast_var = sc.broadcast(stop_words_data)\n",
    "wiki_filtered = wiki_flat.filter(lambda x: x not in broadcast_var.value)\n",
    "result = wiki_filtered.take(10)\n",
    "for word in result[:10]:\n",
    "    print word"
   ]
  },
  {
   "cell_type": "code",
   "execution_count": 11,
   "metadata": {},
   "outputs": [
    {
     "name": "stdout",
     "output_type": "stream",
     "text": [
      "(u'0_.', 5963)\n",
      "(u'p_\\xee', 2)\n",
      "(u'\\u1f30_\\u03be', 1)\n",
      "(u'\\u6d59_\\u6c5f', 1)\n",
      "(u'-_\\u043b', 2)\n",
      "(u'\\u0430_\\u043e', 4)\n",
      "(u'\\u056b_\\u0579', 2)\n",
      "(u'\\u1f05_\\u03b3', 1)\n",
      "(u'\\u9577_\\u58fd', 1)\n",
      "(u'\\u9999_\\u69df', 1)\n",
      "(u'c_\\u0101', 15)\n",
      "(u'2_x', 106)\n",
      "(u'\\u043a_\\u0440', 24)\n",
      "(u'\\u0938_\\u0926', 1)\n",
      "(u'\\u516b_\\u8109', 2)\n",
      "(u'\\u03b5_\\u03b3', 3)\n",
      "(u'\\xf2_h', 1)\n",
      "(u'0_n', 34)\n",
      "(u'\\u05e1_\\u05d7', 1)\n",
      "(u'\\u0259_/', 1)\n",
      "(u'a_\\u1e37', 2)\n",
      "(u'\\u6247_\\u8d1d', 1)\n",
      "(u'\\u516d_\\u6deb', 1)\n",
      "(u'6_\\u2154', 5)\n",
      "(u'\\u03bf_\\u03b5', 2)\n",
      "(u'?_e', 1)\n",
      "(u'\\u0902_\\u0938', 1)\n",
      "(u'+_9', 4)\n",
      "(u'x_\\u03b6', 1)\n",
      "(u'a_\\u0107', 15)\n",
      "(u'\\u03c3_a', 2)\n",
      "(u'2_\\u2308', 2)\n",
      "(u'\\u0623_\\u0631', 1)\n",
      "(u'\\u0f58_\\u0f66', 1)\n",
      "(u'\\u0161_\\u0137', 1)\n",
      "(u'z_\\xe0', 35)\n",
      "(u'p_>', 1)\n",
      "(u'\\u03b2_x', 6)\n",
      "(u'\\u6483_\\u3061', 1)\n",
      "(u'0_^', 111)\n",
      "(u'\\u0643_\\u0631', 5)\n",
      "(u'\\u5638_\\u8766', 1)\n",
      "(u'\\u016b_i', 1)\n",
      "(u'\\u03c4_z', 1)\n",
      "(u'\\u5c71_\\u5927', 2)\n",
      "(u'\\u0937_\\u094d', 1)\n",
      "(u'\\u30e3_\\u30d1', 1)\n",
      "(u'\\u03bf_\\u03d5', 1)\n",
      "(u'\\u2192_(', 1)\n",
      "(u'\\u0445_\\u0443', 2)\n",
      "(u'p_~', 1)\n",
      "(u's_\\u1ed1', 1)\n",
      "(u'v_\\u03b4', 1)\n",
      "(u'\\u03b3_a', 4)\n",
      "(u'\\U0001044c_\\U00010432', 1)\n",
      "(u'\\u9053_\\u4fe1', 4)\n",
      "(u'~_\\\\', 117)\n",
      "(u'\\u1f65_\\u03c3', 1)\n",
      "(u'[_\\u03b9', 1)\n",
      "(u'2_8', 4926)\n",
      "(u'\\u05d1_\\u05e7', 2)\n",
      "(u'\\u1e33_a', 3)\n",
      "(u'\\u03c2_(', 1)\n",
      "(u'{_9', 21)\n",
      "(u'\\u0447_\\u043d', 4)\n",
      "(u'\\u4e2d_\\u570b', 3)\n",
      "(u'j_\\u01d0', 2)\n",
      "(u'9_/', 288)\n",
      "(u'\\u507f_\\u6cd5', 1)\n",
      "(u'\\u56db_)', 1)\n",
      "(u'9__', 4)\n",
      "(u'\\u012b_y', 6)\n",
      "(u'\\u77f3_\\u82f1', 1)\n",
      "(u'\\u2212_8', 1)\n",
      "(u']_{', 46)\n",
      "(u'\\u03c7_m', 2)\n",
      "(u'\\u8033_\\u5c71', 1)\n",
      "(u'y_\\u014f', 3)\n",
      "(u'j_0', 3)\n",
      "(u'x_&', 3)\n",
      "(u'z_\\u01d0', 20)\n",
      "(u'\\u8449_\\u539f', 1)\n",
      "(u'\\u0449_\\u044f', 1)\n",
      "(u'\\u7cd6_\\u6c34', 2)\n",
      "(u'\\u0452_\\u0438', 1)\n",
      "(u'\\u0642_\\u0628', 1)\n",
      "(u'd_\\xfa', 35)\n",
      "(u'\\xe0_n', 123)\n",
      "(u'\\u53f8_\\u8336', 1)\n",
      "(u'\\u015f_e', 37)\n",
      "(u'\\u30af_\\u30b5', 3)\n",
      "(u'\\u1f00_\\u03ae', 1)\n",
      "(u'\\u0644_\\u062a', 1)\n",
      "(u'i_\\u011f', 9)\n",
      "(u'n_\\\\', 235)\n",
      "(u'\\u814a_\\u80a0', 2)\n",
      "(u'\\\\_\"', 1)\n",
      "(u'k_\\u0159', 4)\n",
      "(u'\"_8', 15)\n",
      "(u'\\u0442_h', 3)\n"
     ]
    }
   ],
   "source": [
    "#compute the bigrams\n",
    "bigrams = wiki_filtered.flatMap(lambda x: [((x[i]+'_'+x[i+1]),1) for i in range(0,len(x)-1)]) \\\n",
    ".reduceByKey(lambda x,y:x+y)\n",
    "result = bigrams.take(100)\n",
    "for word in result[:100]:\n",
    "    print word"
   ]
  },
  {
   "cell_type": "code",
   "execution_count": 13,
   "metadata": {},
   "outputs": [
    {
     "name": "stdout",
     "output_type": "stream",
     "text": [
      "40086090\n"
     ]
    }
   ],
   "source": [
    "#count the bigrams\n",
    "num_bigrams = bigrams.values().sum()\n",
    "print(num_bigrams)"
   ]
  },
  {
   "cell_type": "code",
   "execution_count": null,
   "metadata": {},
   "outputs": [],
   "source": []
  }
 ],
 "metadata": {
  "kernelspec": {
   "display_name": "Python 2",
   "language": "python",
   "name": "python2"
  },
  "language_info": {
   "codemirror_mode": {
    "name": "ipython",
    "version": 2
   },
   "file_extension": ".py",
   "mimetype": "text/x-python",
   "name": "python",
   "nbconvert_exporter": "python",
   "pygments_lexer": "ipython2",
   "version": "2.7.12"
  }
 },
 "nbformat": 4,
 "nbformat_minor": 2
}

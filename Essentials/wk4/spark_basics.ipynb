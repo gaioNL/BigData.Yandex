{
 "cells": [
  {
   "cell_type": "code",
   "execution_count": 1,
   "metadata": {},
   "outputs": [
    {
     "name": "stdout",
     "output_type": "stream",
     "text": [
      "Writing nasdaq.csv\n"
     ]
    }
   ],
   "source": [
    "%%writefile nasdaq.csv\n",
    "2017-01-03,5425,620117,5452,56824,990234,5429,080078,5429080078,188620000\n",
    "2017-01-04,5455,620156,5459,56849,990559,5456,969699,5429080955,188620959\n",
    "2017-01-05,5495,660156,5895,56589,954559,5556,949699,5429088955,189520959\n",
    "2017-02-09,4559,565522,5599,45559,841841,4959,181262,7448485848,226262281\n",
    "2017-03-10,2252,757575,2424,49242,242442,4435,424224,4242424242,254453453"
   ]
  },
  {
   "cell_type": "markdown",
   "metadata": {},
   "source": [
    "## Basic"
   ]
  },
  {
   "cell_type": "code",
   "execution_count": 2,
   "metadata": {},
   "outputs": [],
   "source": [
    "from pyspark import SparkConf, SparkContext\n",
    "\n",
    "# Create a Sprark context\n",
    "sc = SparkContext(conf=SparkConf().setAppName(\"MyApp\").setMaster(\"local\"))"
   ]
  },
  {
   "cell_type": "code",
   "execution_count": 3,
   "metadata": {},
   "outputs": [],
   "source": [
    "# create an RDD from a list\n",
    "a = [1,2,3,4,5]\n",
    "a = sc.parallelize(a)"
   ]
  },
  {
   "cell_type": "code",
   "execution_count": 4,
   "metadata": {},
   "outputs": [
    {
     "data": {
      "text/plain": [
       "1"
      ]
     },
     "execution_count": 4,
     "metadata": {},
     "output_type": "execute_result"
    }
   ],
   "source": [
    "# Check number of partition\n",
    "a.getNumPartitions()"
   ]
  },
  {
   "cell_type": "code",
   "execution_count": 5,
   "metadata": {},
   "outputs": [
    {
     "data": {
      "text/plain": [
       "[1, 2, 3, 4, 5]"
      ]
     },
     "execution_count": 5,
     "metadata": {},
     "output_type": "execute_result"
    }
   ],
   "source": [
    "# Checkk RDD\n",
    "a.collect()"
   ]
  },
  {
   "cell_type": "code",
   "execution_count": 6,
   "metadata": {},
   "outputs": [
    {
     "data": {
      "text/plain": [
       "[2, 4, 6, 8, 10]"
      ]
     },
     "execution_count": 6,
     "metadata": {},
     "output_type": "execute_result"
    }
   ],
   "source": [
    "# Map\n",
    "b = a.map(lambda x: 2*x)\n",
    "b.collect()"
   ]
  },
  {
   "cell_type": "markdown",
   "metadata": {},
   "source": [
    "## RDD from file"
   ]
  },
  {
   "cell_type": "code",
   "execution_count": 7,
   "metadata": {},
   "outputs": [],
   "source": [
    "# Create an RDD from a file\n",
    "raw_data = sc.textFile('nasdaq.csv')"
   ]
  },
  {
   "cell_type": "code",
   "execution_count": 8,
   "metadata": {},
   "outputs": [
    {
     "data": {
      "text/plain": [
       "[u'2017-01-03,5425,620117,5452,56824,990234,5429,080078,5429080078,188620000',\n",
       " u'2017-01-04,5455,620156,5459,56849,990559,5456,969699,5429080955,188620959']"
      ]
     },
     "execution_count": 8,
     "metadata": {},
     "output_type": "execute_result"
    }
   ],
   "source": [
    "# Check the content\n",
    "raw_data.take(2)"
   ]
  },
  {
   "cell_type": "code",
   "execution_count": 9,
   "metadata": {},
   "outputs": [],
   "source": [
    "from collections import namedtuple\n",
    "Record = namedtuple('Record', ['date', 'open', 'high', 'low', 'close', 'adj_close', 'volume'])\n",
    "\n",
    "def parse_record(s):\n",
    "    fields = s.split(',')\n",
    "    return Record(fields[0], float(fields[1]), float(fields[2]), float(fields[3]), float(fields[4]), float(fields[5]), int(fields[6]))"
   ]
  },
  {
   "cell_type": "code",
   "execution_count": 10,
   "metadata": {},
   "outputs": [
    {
     "data": {
      "text/plain": [
       "[Record(date=u'2017-01-03', open=5425.0, high=620117.0, low=5452.0, close=56824.0, adj_close=990234.0, volume=5429),\n",
       " Record(date=u'2017-01-04', open=5455.0, high=620156.0, low=5459.0, close=56849.0, adj_close=990559.0, volume=5456)]"
      ]
     },
     "execution_count": 10,
     "metadata": {},
     "output_type": "execute_result"
    }
   ],
   "source": [
    "# parse\n",
    "parsed_data = raw_data.map(parse_record)\n",
    "parsed_data.take(2)"
   ]
  },
  {
   "cell_type": "code",
   "execution_count": 11,
   "metadata": {},
   "outputs": [
    {
     "data": {
      "text/plain": [
       "PythonRDD[6] at RDD at PythonRDD.scala:48"
      ]
     },
     "execution_count": 11,
     "metadata": {},
     "output_type": "execute_result"
    }
   ],
   "source": [
    "# Cache the RDD\n",
    "parsed_data.cache()"
   ]
  },
  {
   "cell_type": "markdown",
   "metadata": {},
   "source": [
    "## Analysis"
   ]
  },
  {
   "cell_type": "code",
   "execution_count": 12,
   "metadata": {},
   "outputs": [
    {
     "data": {
      "text/plain": [
       "u'2017-01-03'"
      ]
     },
     "execution_count": 12,
     "metadata": {},
     "output_type": "execute_result"
    }
   ],
   "source": [
    "# Min date\n",
    "parsed_data.map(lambda x: x.date).min()"
   ]
  },
  {
   "cell_type": "code",
   "execution_count": 13,
   "metadata": {},
   "outputs": [
    {
     "data": {
      "text/plain": [
       "u'2017-03-10'"
      ]
     },
     "execution_count": 13,
     "metadata": {},
     "output_type": "execute_result"
    }
   ],
   "source": [
    "# Max date\n",
    "parsed_data.map(lambda x: x.date).max()"
   ]
  },
  {
   "cell_type": "code",
   "execution_count": 14,
   "metadata": {},
   "outputs": [
    {
     "data": {
      "text/plain": [
       "25835"
      ]
     },
     "execution_count": 14,
     "metadata": {},
     "output_type": "execute_result"
    }
   ],
   "source": [
    "# Total trade volume\n",
    "parsed_data.map(lambda x: x.volume).sum()"
   ]
  },
  {
   "cell_type": "markdown",
   "metadata": {},
   "source": [
    "## Map-reduce"
   ]
  },
  {
   "cell_type": "code",
   "execution_count": 15,
   "metadata": {},
   "outputs": [
    {
     "data": {
      "text/plain": [
       "[(u'2017-01',\n",
       "  Record(date=u'2017-01-03', open=5425.0, high=620117.0, low=5452.0, close=56824.0, adj_close=990234.0, volume=5429)),\n",
       " (u'2017-01',\n",
       "  Record(date=u'2017-01-04', open=5455.0, high=620156.0, low=5459.0, close=56849.0, adj_close=990559.0, volume=5456))]"
      ]
     },
     "execution_count": 15,
     "metadata": {},
     "output_type": "execute_result"
    }
   ],
   "source": [
    "# New data (key: month, values: ...)\n",
    "with_month_data = parsed_data.map(lambda x:(x.date[:7], x))\n",
    "with_month_data.take(2)"
   ]
  },
  {
   "cell_type": "code",
   "execution_count": 16,
   "metadata": {},
   "outputs": [
    {
     "data": {
      "text/plain": [
       "[(u'2017-01', 16441), (u'2017-02', 4959), (u'2017-03', 4435)]"
      ]
     },
     "execution_count": 16,
     "metadata": {},
     "output_type": "execute_result"
    }
   ],
   "source": [
    "# New data (key: month, value: total volume) by map-reduce\n",
    "by_month_data = with_month_data.mapValues(lambda x: x.volume).reduceByKey(lambda x,y: x + y)\n",
    "by_month_data.take(5)"
   ]
  },
  {
   "cell_type": "code",
   "execution_count": 17,
   "metadata": {},
   "outputs": [
    {
     "data": {
      "text/plain": [
       "[(u'2017-01', 16441)]"
      ]
     },
     "execution_count": 17,
     "metadata": {},
     "output_type": "execute_result"
    }
   ],
   "source": [
    "# return the top 1\n",
    "by_month_data.top(1, lambda x: x[1])"
   ]
  },
  {
   "cell_type": "code",
   "execution_count": 18,
   "metadata": {},
   "outputs": [
    {
     "name": "stdout",
     "output_type": "stream",
     "text": [
      "['2017-01,16441', '2017-02,4959', '2017-03,4435']\n"
     ]
    }
   ],
   "source": [
    "# Clean and save data\n",
    "result_data = by_month_data.map(lambda t:','.join(map(str, t)))\n",
    "print result_data.take(3)\n",
    "\n",
    "result_data.repartition(1).saveAsTextFile('outdir')"
   ]
  }
 ],
 "metadata": {
  "kernelspec": {
   "display_name": "Python 2",
   "language": "python",
   "name": "python2"
  },
  "language_info": {
   "codemirror_mode": {
    "name": "ipython",
    "version": 2
   },
   "file_extension": ".py",
   "mimetype": "text/x-python",
   "name": "python",
   "nbconvert_exporter": "python",
   "pygments_lexer": "ipython2",
   "version": "2.7.12"
  }
 },
 "nbformat": 4,
 "nbformat_minor": 2
}

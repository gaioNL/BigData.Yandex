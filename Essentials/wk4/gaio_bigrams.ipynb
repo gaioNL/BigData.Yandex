{
 "cells": [
  {
   "cell_type": "code",
   "execution_count": 1,
   "metadata": {},
   "outputs": [],
   "source": [
    "from pyspark import SparkConf, SparkContext\n",
    "sc = SparkContext(conf=SparkConf().setAppName(\"MyApp\").setMaster(\"local\"))\n",
    "\n",
    "import re\n",
    "\n",
    "def parse_article(line):\n",
    "    try:\n",
    "        article_id, text = unicode(line.rstrip()).split('\\t', 1)\n",
    "        text = re.sub(\"^\\W+|\\W+$\", \"\", text, flags=re.UNICODE)\n",
    "        words = re.split(\"\\W*\\s+\\W*\", text, flags=re.UNICODE)\n",
    "        return words\n",
    "    except ValueError as e:\n",
    "        return []"
   ]
  },
  {
   "cell_type": "code",
   "execution_count": 3,
   "metadata": {},
   "outputs": [
    {
     "name": "stdout",
     "output_type": "stream",
     "text": [
      "(u'narodnaya_gazeta', 1)\n",
      "(u'narodnaya_volya', 9)\n"
     ]
    }
   ],
   "source": [
    "wiki = sc.textFile(\"/data/wiki/en_articles_part/articles-part\", 16) \\\n",
    ".map(parse_article).flatMap(lambda x: [((x[i].lower()+'_'+x[i+1].lower()),1) for i in range(0,len(x)-1)]) \\\n",
    ".reduceByKey(lambda x,y:x+y) \\\n",
    ".filter(lambda x: x[0].startswith('narodnaya'))\n",
    "\n",
    "result = wiki.collect()\n",
    "for word in result:\n",
    "    print word"
   ]
  },
  {
   "cell_type": "code",
   "execution_count": 5,
   "metadata": {},
   "outputs": [
    {
     "name": "stdout",
     "output_type": "stream",
     "text": [
      "narodnaya_gazeta\t1\n",
      "narodnaya_volya\t9\n"
     ]
    }
   ],
   "source": [
    "#now let's make the f... grader happy\n",
    "for word in result:\n",
    "    print (\"%s\\t%d\" %(word[0],word[1]) )"
   ]
  },
  {
   "cell_type": "code",
   "execution_count": null,
   "metadata": {},
   "outputs": [],
   "source": []
  }
 ],
 "metadata": {
  "kernelspec": {
   "display_name": "Python 2",
   "language": "python",
   "name": "python2"
  },
  "language_info": {
   "codemirror_mode": {
    "name": "ipython",
    "version": 2
   },
   "file_extension": ".py",
   "mimetype": "text/x-python",
   "name": "python",
   "nbconvert_exporter": "python",
   "pygments_lexer": "ipython2",
   "version": "2.7.12"
  }
 },
 "nbformat": 4,
 "nbformat_minor": 2
}

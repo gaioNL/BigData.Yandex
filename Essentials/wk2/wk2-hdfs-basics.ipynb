{
 "cells": [
  {
   "cell_type": "code",
   "execution_count": null,
   "metadata": {
    "collapsed": true
   },
   "outputs": [],
   "source": [
    "! hdfs dfs -ls /user\n",
    "#Found 1 items\n",
    "#drwxr-xr-x   - jovyan supergroup          0 2018-02-12 04:59 /user/jovyan\n",
    "\n",
    "! hdfs dfs -mkdir /user/jovyan/assignment1\n",
    "! hdfs dfs -put text.txt /user/jovyan/assignment1\n",
    "\n",
    "! hdfs dfs -ls -h /user/jovyan/assignment1/text.txt\n",
    "#-rw-r--r--   1 jovyan supergroup         74 2018-02-12 05:41 /user/jovyan/assignment1/text.txt\n",
    "\n",
    "!hdfs dfs -chmod 640 /user/jovyan/assignment1/text.txt\n",
    "! hdfs dfs -ls -h /user/jovyan/assignment1/text.txt\n",
    "#-rw-r-----   1 jovyan supergroup         74 2018-02-12 05:41 /user/jovyan/assignment1/text.txt\n",
    "\n",
    "!hdfs dfs -cat /user/jovyan/assignment1/text.txt | head -10\n",
    "! hdfs dfs -mv /user/jovyan/assignment1/text.txt /user/jovyan/assignment1/text2.txt\n",
    "\n",
    "ASNW2\n",
    "!hdfs fsck /data/wiki/en_articles_part/articles-part -files -blocks -locations\n",
    "\n",
    "!hdfs fsck -blockId blk_1073741825"
   ]
  }
 ],
 "metadata": {
  "kernelspec": {
   "display_name": "Python 3",
   "language": "python",
   "name": "python3"
  },
  "language_info": {
   "codemirror_mode": {
    "name": "ipython",
    "version": 3
   },
   "file_extension": ".py",
   "mimetype": "text/x-python",
   "name": "python",
   "nbconvert_exporter": "python",
   "pygments_lexer": "ipython3",
   "version": "3.6.3"
  }
 },
 "nbformat": 4,
 "nbformat_minor": 2
}

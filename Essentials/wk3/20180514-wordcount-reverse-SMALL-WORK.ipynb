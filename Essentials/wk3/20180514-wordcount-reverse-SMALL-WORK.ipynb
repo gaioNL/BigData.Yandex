{
 "cells": [
  {
   "cell_type": "code",
   "execution_count": 1,
   "metadata": {},
   "outputs": [
    {
     "name": "stdout",
     "output_type": "stream",
     "text": [
      "Writing mapper.py\n"
     ]
    }
   ],
   "source": [
    "%%writefile mapper.py\n",
    "\n",
    "import sys\n",
    "import re\n",
    "\n",
    "reload(sys)\n",
    "sys.setdefaultencoding('utf-8') # required to convert to unicode\n",
    "\n",
    "for line in sys.stdin:\n",
    "    try:\n",
    "        article_id, text = unicode(line.strip()).split('\\t', 1)\n",
    "    except ValueError as e:\n",
    "        continue\n",
    "    words = re.split(\"\\W*\\s+\\W*\", text, flags=re.UNICODE)\n",
    "    for word in words:\n",
    "        print >> sys.stderr, \"reporter:counter:Wiki stats,Total words,%d\" % 1\n",
    "        print \"%s\\t%d\" % (word.lower(), 1)"
   ]
  },
  {
   "cell_type": "code",
   "execution_count": 2,
   "metadata": {},
   "outputs": [
    {
     "name": "stdout",
     "output_type": "stream",
     "text": [
      "Writing reducer.py\n"
     ]
    }
   ],
   "source": [
    "%%writefile reducer.py\n",
    "\n",
    "import sys\n",
    "\n",
    "current_key = None\n",
    "word_sum = 0"
   ]
  },
  {
   "cell_type": "code",
   "execution_count": 3,
   "metadata": {},
   "outputs": [
    {
     "name": "stdout",
     "output_type": "stream",
     "text": [
      "Appending to reducer.py\n"
     ]
    }
   ],
   "source": [
    "%%writefile -a reducer.py\n",
    "\n",
    "for line in sys.stdin:\n",
    "    try:\n",
    "        key, count = line.strip().split('\\t', 1)\n",
    "        count = int(count)\n",
    "    except ValueError as e:\n",
    "        continue\n",
    "    if current_key != key:\n",
    "        if current_key:\n",
    "            print \"%s\\t%d\" % (current_key, word_sum)\n",
    "        word_sum = 0\n",
    "        current_key = key\n",
    "    word_sum += count\n",
    "\n",
    "if current_key:\n",
    "    print \"%s\\t%d\" % (current_key, word_sum)"
   ]
  },
  {
   "cell_type": "code",
   "execution_count": 17,
   "metadata": {},
   "outputs": [
    {
     "name": "stdout",
     "output_type": "stream",
     "text": [
      "Overwriting rx_mapper.py\n"
     ]
    }
   ],
   "source": [
    "%%writefile rx_mapper.py\n",
    "\n",
    "import sys\n",
    "import re\n",
    "\n",
    "reload(sys)\n",
    "sys.setdefaultencoding('utf-8') # required to convert to unicode\n",
    "\n",
    "for line in sys.stdin:\n",
    "    try:\n",
    "        key, count = line.strip().split('\\t',1)\n",
    "        count=int(count)\n",
    "        print \"%d\\t%s\" % (count,key)\n",
    "    except ValueError as e:\n",
    "        continue"
   ]
  },
  {
   "cell_type": "code",
   "execution_count": 18,
   "metadata": {},
   "outputs": [
    {
     "name": "stdout",
     "output_type": "stream",
     "text": [
      "Overwriting rx_reducer.py\n"
     ]
    }
   ],
   "source": [
    "%%writefile rx_reducer.py\n",
    "\n",
    "import sys\n",
    "import re\n",
    "\n",
    "reload(sys)\n",
    "sys.setdefaultencoding('utf-8') # required to convert to unicode\n",
    "\n",
    "for line in sys.stdin:\n",
    "    try:\n",
    "        count,key = line.strip().split('\\t',1)\n",
    "        count=int(count)\n",
    "        print \"%s\\t%d\" % (key, count)\n",
    "    except ValueError as e:\n",
    "        continue"
   ]
  },
  {
   "cell_type": "code",
   "execution_count": 6,
   "metadata": {},
   "outputs": [],
   "source": [
    "!hdfs dfs -mkdir /data/wiki/gaio_files"
   ]
  },
  {
   "cell_type": "code",
   "execution_count": 7,
   "metadata": {},
   "outputs": [],
   "source": [
    "! hdfs dfs -ls /data/wiki/gaio_files"
   ]
  },
  {
   "cell_type": "code",
   "execution_count": 8,
   "metadata": {},
   "outputs": [
    {
     "name": "stdout",
     "output_type": "stream",
     "text": [
      "-rwxrwxrwx   1 jovyan supergroup   76861985 2017-10-17 13:15 /data/wiki/en_articles_part/articles-part\r\n"
     ]
    }
   ],
   "source": [
    "!hdfs dfs -ls /data/wiki/en_articles_part/articles-part/"
   ]
  },
  {
   "cell_type": "code",
   "execution_count": 9,
   "metadata": {},
   "outputs": [
    {
     "name": "stdout",
     "output_type": "stream",
     "text": [
      "cat: Unable to write to output stream.\r\n"
     ]
    }
   ],
   "source": [
    "!hdfs dfs -cat /data/wiki/en_articles_part/articles-part | head > a.txt"
   ]
  },
  {
   "cell_type": "code",
   "execution_count": 10,
   "metadata": {},
   "outputs": [
    {
     "name": "stdout",
     "output_type": "stream",
     "text": [
      "20180514-wordcount-reverse-WORK.ipynb  README.md      supervisord.log\r\n",
      "a.txt                                  reducer.py     supervisord.pid\r\n",
      "DemoNotebook.ipynb                     rx_mapper.py\r\n",
      "mapper.py                              rx_reducer.py\r\n"
     ]
    }
   ],
   "source": [
    "%ls"
   ]
  },
  {
   "cell_type": "code",
   "execution_count": 11,
   "metadata": {},
   "outputs": [],
   "source": [
    "!hdfs dfs -copyFromLocal a.txt /data/wiki/gaio_files"
   ]
  },
  {
   "cell_type": "code",
   "execution_count": 12,
   "metadata": {},
   "outputs": [
    {
     "name": "stdout",
     "output_type": "stream",
     "text": [
      "Found 1 items\r\n",
      "-rw-r--r--   1 jovyan supergroup     424525 2018-05-14 18:49 /data/wiki/gaio_files/a.txt\r\n"
     ]
    }
   ],
   "source": [
    "! hdfs dfs -ls /data/wiki/gaio_files"
   ]
  },
  {
   "cell_type": "code",
   "execution_count": 27,
   "metadata": {},
   "outputs": [
    {
     "name": "stdout",
     "output_type": "stream",
     "text": [
      "is\t584\n"
     ]
    },
    {
     "name": "stderr",
     "output_type": "stream",
     "text": [
      "rm: `wordcount_result_1526324470446091': No such file or directory\n",
      "18/05/14 19:01:13 INFO client.RMProxy: Connecting to ResourceManager at /0.0.0.0:8032\n",
      "18/05/14 19:01:13 INFO client.RMProxy: Connecting to ResourceManager at /0.0.0.0:8032\n",
      "18/05/14 19:01:14 INFO mapred.FileInputFormat: Total input files to process : 1\n",
      "18/05/14 19:01:14 INFO mapreduce.JobSubmitter: number of splits:2\n",
      "18/05/14 19:01:14 INFO mapreduce.JobSubmitter: Submitting tokens for job: job_1526287196433_0011\n",
      "18/05/14 19:01:14 INFO impl.YarnClientImpl: Submitted application application_1526287196433_0011\n",
      "18/05/14 19:01:14 INFO mapreduce.Job: The url to track the job: http://55e59bd90628:8088/proxy/application_1526287196433_0011/\n",
      "18/05/14 19:01:14 INFO mapreduce.Job: Running job: job_1526287196433_0011\n",
      "18/05/14 19:01:20 INFO mapreduce.Job: Job job_1526287196433_0011 running in uber mode : false\n",
      "18/05/14 19:01:20 INFO mapreduce.Job:  map 0% reduce 0%\n",
      "18/05/14 19:01:24 INFO mapreduce.Job:  map 50% reduce 0%\n",
      "18/05/14 19:01:25 INFO mapreduce.Job:  map 100% reduce 0%\n",
      "18/05/14 19:01:30 INFO mapreduce.Job:  map 100% reduce 25%\n",
      "18/05/14 19:01:31 INFO mapreduce.Job:  map 100% reduce 38%\n",
      "18/05/14 19:01:33 INFO mapreduce.Job:  map 100% reduce 50%\n",
      "18/05/14 19:01:34 INFO mapreduce.Job:  map 100% reduce 100%\n",
      "18/05/14 19:01:35 INFO mapreduce.Job: Job job_1526287196433_0011 completed successfully\n",
      "18/05/14 19:01:35 INFO mapreduce.Job: Counters: 51\n",
      "\tFile System Counters\n",
      "\t\tFILE: Number of bytes read=669890\n",
      "\t\tFILE: Number of bytes written=2736244\n",
      "\t\tFILE: Number of read operations=0\n",
      "\t\tFILE: Number of large read operations=0\n",
      "\t\tFILE: Number of write operations=0\n",
      "\t\tHDFS: Number of bytes read=449301\n",
      "\t\tHDFS: Number of bytes written=125310\n",
      "\t\tHDFS: Number of read operations=30\n",
      "\t\tHDFS: Number of large read operations=0\n",
      "\t\tHDFS: Number of write operations=16\n",
      "\tJob Counters \n",
      "\t\tKilled reduce tasks=1\n",
      "\t\tLaunched map tasks=2\n",
      "\t\tLaunched reduce tasks=8\n",
      "\t\tData-local map tasks=2\n",
      "\t\tTotal time spent by all maps in occupied slots (ms)=4748\n",
      "\t\tTotal time spent by all reduces in occupied slots (ms)=22220\n",
      "\t\tTotal time spent by all map tasks (ms)=4748\n",
      "\t\tTotal time spent by all reduce tasks (ms)=22220\n",
      "\t\tTotal vcore-milliseconds taken by all map tasks=4748\n",
      "\t\tTotal vcore-milliseconds taken by all reduce tasks=22220\n",
      "\t\tTotal megabyte-milliseconds taken by all map tasks=4861952\n",
      "\t\tTotal megabyte-milliseconds taken by all reduce tasks=22753280\n",
      "\tMap-Reduce Framework\n",
      "\t\tMap input records=10\n",
      "\t\tMap output records=64795\n",
      "\t\tMap output bytes=540252\n",
      "\t\tMap output materialized bytes=669938\n",
      "\t\tInput split bytes=200\n",
      "\t\tCombine input records=0\n",
      "\t\tCombine output records=0\n",
      "\t\tReduce input groups=11677\n",
      "\t\tReduce shuffle bytes=669938\n",
      "\t\tReduce input records=64795\n",
      "\t\tReduce output records=11677\n",
      "\t\tSpilled Records=129590\n",
      "\t\tShuffled Maps =16\n",
      "\t\tFailed Shuffles=0\n",
      "\t\tMerged Map outputs=16\n",
      "\t\tGC time elapsed (ms)=816\n",
      "\t\tCPU time spent (ms)=13480\n",
      "\t\tPhysical memory (bytes) snapshot=2154262528\n",
      "\t\tVirtual memory (bytes) snapshot=20163846144\n",
      "\t\tTotal committed heap usage (bytes)=1605369856\n",
      "\tShuffle Errors\n",
      "\t\tBAD_ID=0\n",
      "\t\tCONNECTION=0\n",
      "\t\tIO_ERROR=0\n",
      "\t\tWRONG_LENGTH=0\n",
      "\t\tWRONG_MAP=0\n",
      "\t\tWRONG_REDUCE=0\n",
      "\tWiki stats\n",
      "\t\tTotal words=64795\n",
      "\tFile Input Format Counters \n",
      "\t\tBytes Read=449101\n",
      "\tFile Output Format Counters \n",
      "\t\tBytes Written=125310\n",
      "18/05/14 19:01:35 INFO streaming.StreamJob: Output directory: wordcount_result_1526324470446091\n",
      "rm: `wordcount_rev_1526324496244461': No such file or directory\n",
      "18/05/14 19:01:39 INFO client.RMProxy: Connecting to ResourceManager at /0.0.0.0:8032\n",
      "18/05/14 19:01:39 INFO client.RMProxy: Connecting to ResourceManager at /0.0.0.0:8032\n",
      "18/05/14 19:01:40 INFO mapred.FileInputFormat: Total input files to process : 8\n",
      "18/05/14 19:01:40 INFO mapreduce.JobSubmitter: number of splits:8\n",
      "18/05/14 19:01:40 INFO mapreduce.JobSubmitter: Submitting tokens for job: job_1526287196433_0012\n",
      "18/05/14 19:01:40 INFO impl.YarnClientImpl: Submitted application application_1526287196433_0012\n",
      "18/05/14 19:01:40 INFO mapreduce.Job: The url to track the job: http://55e59bd90628:8088/proxy/application_1526287196433_0012/\n",
      "18/05/14 19:01:40 INFO mapreduce.Job: Running job: job_1526287196433_0012\n",
      "18/05/14 19:01:47 INFO mapreduce.Job: Job job_1526287196433_0012 running in uber mode : false\n",
      "18/05/14 19:01:47 INFO mapreduce.Job:  map 0% reduce 0%\n",
      "18/05/14 19:01:53 INFO mapreduce.Job:  map 75% reduce 0%\n",
      "18/05/14 19:01:57 INFO mapreduce.Job:  map 100% reduce 0%\n",
      "18/05/14 19:01:58 INFO mapreduce.Job:  map 100% reduce 100%\n",
      "18/05/14 19:01:59 INFO mapreduce.Job: Job job_1526287196433_0012 completed successfully\n",
      "18/05/14 19:01:59 INFO mapreduce.Job: Counters: 50\n",
      "\tFile System Counters\n",
      "\t\tFILE: Number of bytes read=148670\n",
      "\t\tFILE: Number of bytes written=1557822\n",
      "\t\tFILE: Number of read operations=0\n",
      "\t\tFILE: Number of large read operations=0\n",
      "\t\tFILE: Number of write operations=0\n",
      "\t\tHDFS: Number of bytes read=126350\n",
      "\t\tHDFS: Number of bytes written=125310\n",
      "\t\tHDFS: Number of read operations=27\n",
      "\t\tHDFS: Number of large read operations=0\n",
      "\t\tHDFS: Number of write operations=2\n",
      "\tJob Counters \n",
      "\t\tKilled map tasks=1\n",
      "\t\tLaunched map tasks=8\n",
      "\t\tLaunched reduce tasks=1\n",
      "\t\tData-local map tasks=8\n",
      "\t\tTotal time spent by all maps in occupied slots (ms)=32474\n",
      "\t\tTotal time spent by all reduces in occupied slots (ms)=2814\n",
      "\t\tTotal time spent by all map tasks (ms)=32474\n",
      "\t\tTotal time spent by all reduce tasks (ms)=2814\n",
      "\t\tTotal vcore-milliseconds taken by all map tasks=32474\n",
      "\t\tTotal vcore-milliseconds taken by all reduce tasks=2814\n",
      "\t\tTotal megabyte-milliseconds taken by all map tasks=33253376\n",
      "\t\tTotal megabyte-milliseconds taken by all reduce tasks=2881536\n",
      "\tMap-Reduce Framework\n",
      "\t\tMap input records=11677\n",
      "\t\tMap output records=11677\n",
      "\t\tMap output bytes=125310\n",
      "\t\tMap output materialized bytes=148712\n",
      "\t\tInput split bytes=1040\n",
      "\t\tCombine input records=0\n",
      "\t\tCombine output records=0\n",
      "\t\tReduce input groups=134\n",
      "\t\tReduce shuffle bytes=148712\n",
      "\t\tReduce input records=11677\n",
      "\t\tReduce output records=11677\n",
      "\t\tSpilled Records=23354\n",
      "\t\tShuffled Maps =8\n",
      "\t\tFailed Shuffles=0\n",
      "\t\tMerged Map outputs=8\n",
      "\t\tGC time elapsed (ms)=1646\n",
      "\t\tCPU time spent (ms)=5930\n",
      "\t\tPhysical memory (bytes) snapshot=2508238848\n",
      "\t\tVirtual memory (bytes) snapshot=18095943680\n",
      "\t\tTotal committed heap usage (bytes)=1755840512\n",
      "\tShuffle Errors\n",
      "\t\tBAD_ID=0\n",
      "\t\tCONNECTION=0\n",
      "\t\tIO_ERROR=0\n",
      "\t\tWRONG_LENGTH=0\n",
      "\t\tWRONG_MAP=0\n",
      "\t\tWRONG_REDUCE=0\n",
      "\tFile Input Format Counters \n",
      "\t\tBytes Read=125310\n",
      "\tFile Output Format Counters \n",
      "\t\tBytes Written=125310\n",
      "18/05/14 19:01:59 INFO streaming.StreamJob: Output directory: wordcount_rev_1526324496244461\n",
      "cat: Unable to write to output stream.\n"
     ]
    }
   ],
   "source": [
    "%%bash\n",
    "\n",
    "OUT_DIR=\"wordcount_result_\"$(date +\"%s%6N\")\n",
    "NUM_REDUCERS=8\n",
    "\n",
    "hdfs dfs -rm -r -skipTrash ${OUT_DIR} > /dev/null\n",
    "\n",
    "yarn jar /opt/cloudera/parcels/CDH/lib/hadoop-mapreduce/hadoop-streaming.jar \\\n",
    "    -D mapred.jab.name=\"Streaming wordCount\" \\\n",
    "    -D mapreduce.job.reduces=${NUM_REDUCERS} \\\n",
    "    -files mapper.py,reducer.py \\\n",
    "    -mapper \"python mapper.py\" \\\n",
    "    -reducer \"python reducer.py\" \\\n",
    "    -input /data/wiki/gaio_files \\\n",
    "    -output ${OUT_DIR} > /dev/null\n",
    "\n",
    "#hdfs dfs -cat ${OUT_DIR}/part-00000 | head\n",
    "\n",
    "OUT_DIR_REV=\"wordcount_rev_\"$(date +\"%s%6N\")\n",
    "NUM_REDUCERS=1\n",
    "\n",
    "hdfs dfs -rm -r -skipTrash ${OUT_DIR_REV} > /dev/null\n",
    "\n",
    "yarn jar /opt/cloudera/parcels/CDH/lib/hadoop-mapreduce/hadoop-streaming.jar \\\n",
    "    -D mapred.jab.name=\"Streaming rev\" \\\n",
    "    -D mapreduce.job.output.key.comparator.class=org.apache.hadoop.mapred.lib.KeyFieldBasedComparator \\\n",
    "    -D mapreduce.partition.keycomparator.options=-nr \\\n",
    "    -D mapreduce.job.reduces=${NUM_REDUCERS} \\\n",
    "    -files rx_mapper.py,rx_reducer.py \\\n",
    "    -mapper \"python rx_mapper.py\" \\\n",
    "    -reducer \"python rx_reducer.py\" \\\n",
    "    -input ${OUT_DIR} \\\n",
    "    -output ${OUT_DIR_REV} > /dev/null\n",
    "\n",
    "hdfs dfs -cat ${OUT_DIR_REV}/part-00000 | head -7 | tail -1"
   ]
  },
  {
   "cell_type": "code",
   "execution_count": 20,
   "metadata": {},
   "outputs": [
    {
     "name": "stdout",
     "output_type": "stream",
     "text": [
      "Found 2 items\r\n",
      "-rw-r--r--   1 jovyan supergroup          0 2018-05-14 18:55 wordcount_rev_1526324102803277/_SUCCESS\r\n",
      "-rw-r--r--   1 jovyan supergroup     125310 2018-05-14 18:55 wordcount_rev_1526324102803277/part-00000\r\n"
     ]
    }
   ],
   "source": [
    "!hdfs dfs -ls wordcount_rev_1526324102803277"
   ]
  },
  {
   "cell_type": "code",
   "execution_count": 23,
   "metadata": {},
   "outputs": [
    {
     "name": "stdout",
     "output_type": "stream",
     "text": [
      "is\t584\r\n",
      "cat: Unable to write to output stream.\r\n"
     ]
    }
   ],
   "source": [
    "!hdfs dfs -cat wordcount_rev_1526324102803277/part-00000 | head -7 | tail -1"
   ]
  },
  {
   "cell_type": "code",
   "execution_count": 15,
   "metadata": {},
   "outputs": [
    {
     "name": "stdout",
     "output_type": "stream",
     "text": [
      "20180514-wordcount-reverse-WORK.ipynb  README.md      supervisord.log\r\n",
      "a.txt                                  reducer.py     supervisord.pid\r\n",
      "DemoNotebook.ipynb                     rx_mapper.py\r\n",
      "mapper.py                              rx_reducer.py\r\n"
     ]
    }
   ],
   "source": [
    "%ls"
   ]
  },
  {
   "cell_type": "code",
   "execution_count": null,
   "metadata": {},
   "outputs": [],
   "source": []
  }
 ],
 "metadata": {
  "kernelspec": {
   "display_name": "Python 2",
   "language": "python",
   "name": "python2"
  },
  "language_info": {
   "codemirror_mode": {
    "name": "ipython",
    "version": 2
   },
   "file_extension": ".py",
   "mimetype": "text/x-python",
   "name": "python",
   "nbconvert_exporter": "python",
   "pygments_lexer": "ipython2",
   "version": "2.7.12"
  }
 },
 "nbformat": 4,
 "nbformat_minor": 2
}

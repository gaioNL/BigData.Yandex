{
 "cells": [
  {
   "cell_type": "code",
   "execution_count": 1,
   "metadata": {},
   "outputs": [
    {
     "name": "stdout",
     "output_type": "stream",
     "text": [
      "Writing mapper.py\n"
     ]
    }
   ],
   "source": [
    "%%writefile mapper.py\n",
    "\n",
    "import sys\n",
    "import re\n",
    "\n",
    "reload(sys)\n",
    "sys.setdefaultencoding('utf-8') # required to convert to unicode\n",
    "\n",
    "def read_stop_words(stop_words_dict):\n",
    "    return set(word.strip() for word in open(stop_words_dict ))\n",
    "\n",
    "stop_words = read_stop_words(\"stop_words_en.txt\")\n",
    "\n",
    "for line in sys.stdin:\n",
    "    try:\n",
    "        article_id, text = unicode(line.strip()).split('\\t', 1)\n",
    "    except ValueError as e:\n",
    "        continue\n",
    "    words = re.split(\"\\W*\\s+\\W*\", text, flags=re.UNICODE)\n",
    "    for word in words:\n",
    "        print >> sys.stderr, \"reporter:counter:Wiki stats,Total Words,%d\" % 1\n",
    "        if word in stop_words:\n",
    "            print >> sys.stderr, \"reporter:counter:Wiki stats,Stop Words,%d\" % 1\n",
    "        print \"%s\\t%d\" % (word.lower(), 1)"
   ]
  },
  {
   "cell_type": "code",
   "execution_count": 2,
   "metadata": {},
   "outputs": [
    {
     "name": "stdout",
     "output_type": "stream",
     "text": [
      "Writing reducer.py\n"
     ]
    }
   ],
   "source": [
    "%%writefile reducer.py\n",
    "\n",
    "import sys\n",
    "\n",
    "current_key = None\n",
    "word_sum = 0"
   ]
  },
  {
   "cell_type": "code",
   "execution_count": 3,
   "metadata": {},
   "outputs": [
    {
     "name": "stdout",
     "output_type": "stream",
     "text": [
      "Appending to reducer.py\n"
     ]
    }
   ],
   "source": [
    "%%writefile -a reducer.py\n",
    "\n",
    "for line in sys.stdin:\n",
    "    try:\n",
    "        key, count = line.strip().split('\\t', 1)\n",
    "        count = int(count)\n",
    "    except ValueError as e:\n",
    "        continue\n",
    "    if current_key != key:\n",
    "        if current_key:\n",
    "            print \"%s\\t%d\" % (current_key, word_sum)\n",
    "        word_sum = 0\n",
    "        current_key = key\n",
    "    word_sum += count\n",
    "\n",
    "if current_key:\n",
    "    print \"%s\\t%d\" % (current_key, word_sum)"
   ]
  },
  {
   "cell_type": "code",
   "execution_count": 4,
   "metadata": {},
   "outputs": [
    {
     "name": "stdout",
     "output_type": "stream",
     "text": [
      "Writing stats.py\n"
     ]
    }
   ],
   "source": [
    "%%writefile stats.py\n",
    "\n",
    "import sys\n",
    "import re\n",
    "\n",
    "for line in sys.stdin:\n",
    "    try:\n",
    "        counter, count =line.strip().split('=', 1)\n",
    "        count = int(count)\n",
    "        if counter == 'Stop Words':\n",
    "            stop_count = count\n",
    "        elif counter == 'Total Words':\n",
    "            total_count = count        \n",
    "    except ValueError as e:\n",
    "        continue\n",
    "    #print(\"%s\\t%d\" % (counter, count))\n",
    "print(\"%.2f\" % (stop_count/float(total_count)))"
   ]
  },
  {
   "cell_type": "code",
   "execution_count": 5,
   "metadata": {},
   "outputs": [],
   "source": [
    "!hdfs dfs -mkdir /data/wiki/gaio_files"
   ]
  },
  {
   "cell_type": "code",
   "execution_count": 6,
   "metadata": {},
   "outputs": [],
   "source": [
    "! hdfs dfs -ls /data/wiki/gaio_files"
   ]
  },
  {
   "cell_type": "code",
   "execution_count": 7,
   "metadata": {},
   "outputs": [
    {
     "name": "stdout",
     "output_type": "stream",
     "text": [
      "-rwxrwxrwx   1 jovyan supergroup   76861985 2017-10-17 13:15 /data/wiki/en_articles_part/articles-part\r\n"
     ]
    }
   ],
   "source": [
    "!hdfs dfs -ls /data/wiki/en_articles_part/articles-part/"
   ]
  },
  {
   "cell_type": "code",
   "execution_count": 8,
   "metadata": {},
   "outputs": [
    {
     "name": "stdout",
     "output_type": "stream",
     "text": [
      "cat: Unable to write to output stream.\r\n"
     ]
    }
   ],
   "source": [
    "!hdfs dfs -cat /data/wiki/en_articles_part/articles-part | head > a.txt"
   ]
  },
  {
   "cell_type": "code",
   "execution_count": 9,
   "metadata": {},
   "outputs": [
    {
     "name": "stdout",
     "output_type": "stream",
     "text": [
      "20180514-stopword-SMALL-WORK.ipynb  mapper.py   stats.py\r\n",
      "a.txt                               README.md   supervisord.log\r\n",
      "DemoNotebook.ipynb                  reducer.py  supervisord.pid\r\n"
     ]
    }
   ],
   "source": [
    "%ls"
   ]
  },
  {
   "cell_type": "code",
   "execution_count": 10,
   "metadata": {},
   "outputs": [],
   "source": [
    "!hdfs dfs -copyFromLocal a.txt /data/wiki/gaio_files"
   ]
  },
  {
   "cell_type": "code",
   "execution_count": 11,
   "metadata": {},
   "outputs": [
    {
     "name": "stdout",
     "output_type": "stream",
     "text": [
      "Found 1 items\r\n",
      "-rw-r--r--   1 jovyan supergroup     424525 2018-05-18 03:55 /data/wiki/gaio_files/a.txt\r\n"
     ]
    }
   ],
   "source": [
    "! hdfs dfs -ls /data/wiki/gaio_files"
   ]
  },
  {
   "cell_type": "code",
   "execution_count": 12,
   "metadata": {},
   "outputs": [
    {
     "name": "stdout",
     "output_type": "stream",
     "text": [
      "-rw-r--r--   1 jovyan supergroup       1914 2017-10-17 13:16 /datasets/stop_words_en.txt\r\n"
     ]
    }
   ],
   "source": [
    "! hdfs dfs -ls /datasets/stop_words_en.txt"
   ]
  },
  {
   "cell_type": "code",
   "execution_count": 13,
   "metadata": {},
   "outputs": [
    {
     "name": "stdout",
     "output_type": "stream",
     "text": [
      "Stop Words\t24349\n",
      "Total Words\t64795\n",
      "0.38\n"
     ]
    },
    {
     "name": "stderr",
     "output_type": "stream",
     "text": [
      "rm: `stop_words_result_1526615719297953': No such file or directory\n"
     ]
    }
   ],
   "source": [
    "%%bash\n",
    "\n",
    "OUT_DIR=\"stop_words_result_\"$(date +\"%s%6N\")\n",
    "NUM_REDUCERS=8\n",
    "LOGS=\"stderr_logs.txt\"\n",
    "\n",
    "hdfs dfs -rm -r -skipTrash ${OUT_DIR} > /dev/null\n",
    "\n",
    "yarn jar /opt/cloudera/parcels/CDH/lib/hadoop-mapreduce/hadoop-streaming.jar \\\n",
    "    -D mapred.jab.name=\"Streaming wordCount\" \\\n",
    "    -D mapreduce.job.reduces=${NUM_REDUCERS} \\\n",
    "    -files mapper.py,reducer.py,/datasets/stop_words_en.txt \\\n",
    "    -mapper \"python mapper.py\" \\\n",
    "    -reducer \"python reducer.py\" \\\n",
    "    -input /data/wiki/gaio_files \\\n",
    "    -output ${OUT_DIR} > /dev/null 2> $LOGS\n",
    "\n",
    "#hdfs dfs -cat ${OUT_DIR}/part-00000 | head\n",
    "\n",
    "chmod 777 ./stats.py\n",
    "cat ${LOGS} | grep -e 'Total Words' -e 'Stop Words' | python ./stats.py"
   ]
  },
  {
   "cell_type": "code",
   "execution_count": 15,
   "metadata": {},
   "outputs": [
    {
     "name": "stdout",
     "output_type": "stream",
     "text": [
      "Exception in thread \"main\" java.io.FileNotFoundException: File /datasets/stop_words_en.txt’ does not exist.\r\n",
      "\tat org.apache.hadoop.util.GenericOptionsParser.validateFiles(GenericOptionsParser.java:406)\r\n",
      "\tat org.apache.hadoop.util.GenericOptionsParser.processGeneralOptions(GenericOptionsParser.java:313)\r\n",
      "\tat org.apache.hadoop.util.GenericOptionsParser.parseGeneralOptions(GenericOptionsParser.java:488)\r\n",
      "\tat org.apache.hadoop.util.GenericOptionsParser.<init>(GenericOptionsParser.java:170)\r\n",
      "\tat org.apache.hadoop.util.GenericOptionsParser.<init>(GenericOptionsParser.java:153)\r\n",
      "\tat org.apache.hadoop.util.ToolRunner.run(ToolRunner.java:70)\r\n",
      "\tat org.apache.hadoop.util.ToolRunner.run(ToolRunner.java:90)\r\n",
      "\tat org.apache.hadoop.streaming.HadoopStreaming.main(HadoopStreaming.java:50)\r\n",
      "\tat sun.reflect.NativeMethodAccessorImpl.invoke0(Native Method)\r\n",
      "\tat sun.reflect.NativeMethodAccessorImpl.invoke(NativeMethodAccessorImpl.java:62)\r\n",
      "\tat sun.reflect.DelegatingMethodAccessorImpl.invoke(DelegatingMethodAccessorImpl.java:43)\r\n",
      "\tat java.lang.reflect.Method.invoke(Method.java:498)\r\n",
      "\tat org.apache.hadoop.util.RunJar.run(RunJar.java:234)\r\n",
      "\tat org.apache.hadoop.util.RunJar.main(RunJar.java:148)\r\n"
     ]
    }
   ],
   "source": [
    "!cat stderr_logs.txt"
   ]
  },
  {
   "cell_type": "code",
   "execution_count": 23,
   "metadata": {},
   "outputs": [
    {
     "name": "stdout",
     "output_type": "stream",
     "text": [
      "is\t584\r\n",
      "cat: Unable to write to output stream.\r\n"
     ]
    }
   ],
   "source": [
    "!hdfs dfs -cat wordcount_rev_1526324102803277/part-00000 | head -7 | tail -1"
   ]
  },
  {
   "cell_type": "code",
   "execution_count": 15,
   "metadata": {},
   "outputs": [
    {
     "name": "stdout",
     "output_type": "stream",
     "text": [
      "20180514-wordcount-reverse-WORK.ipynb  README.md      supervisord.log\r\n",
      "a.txt                                  reducer.py     supervisord.pid\r\n",
      "DemoNotebook.ipynb                     rx_mapper.py\r\n",
      "mapper.py                              rx_reducer.py\r\n"
     ]
    }
   ],
   "source": [
    "%ls"
   ]
  },
  {
   "cell_type": "code",
   "execution_count": null,
   "metadata": {},
   "outputs": [],
   "source": []
  }
 ],
 "metadata": {
  "kernelspec": {
   "display_name": "Python 2",
   "language": "python",
   "name": "python2"
  },
  "language_info": {
   "codemirror_mode": {
    "name": "ipython",
    "version": 2
   },
   "file_extension": ".py",
   "mimetype": "text/x-python",
   "name": "python",
   "nbconvert_exporter": "python",
   "pygments_lexer": "ipython2",
   "version": "2.7.12"
  }
 },
 "nbformat": 4,
 "nbformat_minor": 2
}

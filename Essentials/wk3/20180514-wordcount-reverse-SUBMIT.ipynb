{
 "cells": [
  {
   "cell_type": "code",
   "execution_count": 28,
   "metadata": {},
   "outputs": [
    {
     "name": "stdout",
     "output_type": "stream",
     "text": [
      "Overwriting mapper.py\n"
     ]
    }
   ],
   "source": [
    "%%writefile mapper.py\n",
    "\n",
    "import sys\n",
    "import re\n",
    "\n",
    "reload(sys)\n",
    "sys.setdefaultencoding('utf-8') # required to convert to unicode\n",
    "\n",
    "for line in sys.stdin:\n",
    "    try:\n",
    "        article_id, text = unicode(line.strip()).split('\\t', 1)\n",
    "    except ValueError as e:\n",
    "        continue\n",
    "    words = re.split(\"\\W*\\s+\\W*\", text, flags=re.UNICODE)\n",
    "    for word in words:\n",
    "        print >> sys.stderr, \"reporter:counter:Wiki stats,Total words,%d\" % 1\n",
    "        print \"%s\\t%d\" % (word.lower(), 1)"
   ]
  },
  {
   "cell_type": "code",
   "execution_count": 29,
   "metadata": {},
   "outputs": [
    {
     "name": "stdout",
     "output_type": "stream",
     "text": [
      "Overwriting reducer.py\n"
     ]
    }
   ],
   "source": [
    "%%writefile reducer.py\n",
    "\n",
    "import sys\n",
    "\n",
    "current_key = None\n",
    "word_sum = 0"
   ]
  },
  {
   "cell_type": "code",
   "execution_count": 30,
   "metadata": {},
   "outputs": [
    {
     "name": "stdout",
     "output_type": "stream",
     "text": [
      "Appending to reducer.py\n"
     ]
    }
   ],
   "source": [
    "%%writefile -a reducer.py\n",
    "\n",
    "for line in sys.stdin:\n",
    "    try:\n",
    "        key, count = line.strip().split('\\t', 1)\n",
    "        count = int(count)\n",
    "    except ValueError as e:\n",
    "        continue\n",
    "    if current_key != key:\n",
    "        if current_key:\n",
    "            print \"%s\\t%d\" % (current_key, word_sum)\n",
    "        word_sum = 0\n",
    "        current_key = key\n",
    "    word_sum += count\n",
    "\n",
    "if current_key:\n",
    "    print \"%s\\t%d\" % (current_key, word_sum)"
   ]
  },
  {
   "cell_type": "code",
   "execution_count": 31,
   "metadata": {},
   "outputs": [
    {
     "name": "stdout",
     "output_type": "stream",
     "text": [
      "Overwriting rx_mapper.py\n"
     ]
    }
   ],
   "source": [
    "%%writefile rx_mapper.py\n",
    "\n",
    "import sys\n",
    "import re\n",
    "\n",
    "reload(sys)\n",
    "sys.setdefaultencoding('utf-8') # required to convert to unicode\n",
    "\n",
    "for line in sys.stdin:\n",
    "    try:\n",
    "        key, count = line.strip().split('\\t',1)\n",
    "        count=int(count)\n",
    "        print \"%d\\t%s\" % (count,key)\n",
    "    except ValueError as e:\n",
    "        continue"
   ]
  },
  {
   "cell_type": "code",
   "execution_count": 32,
   "metadata": {},
   "outputs": [
    {
     "name": "stdout",
     "output_type": "stream",
     "text": [
      "Overwriting rx_reducer.py\n"
     ]
    }
   ],
   "source": [
    "%%writefile rx_reducer.py\n",
    "\n",
    "import sys\n",
    "import re\n",
    "\n",
    "reload(sys)\n",
    "sys.setdefaultencoding('utf-8') # required to convert to unicode\n",
    "\n",
    "for line in sys.stdin:\n",
    "    try:\n",
    "        count,key = line.strip().split('\\t',1)\n",
    "        count=int(count)\n",
    "        print \"%s\\t%d\" % (key, count)\n",
    "    except ValueError as e:\n",
    "        continue"
   ]
  },
  {
   "cell_type": "code",
   "execution_count": 33,
   "metadata": {},
   "outputs": [
    {
     "name": "stdout",
     "output_type": "stream",
     "text": [
      "is\t126420\n"
     ]
    },
    {
     "name": "stderr",
     "output_type": "stream",
     "text": [
      "rm: `wordcount_result_1526324655557809': No such file or directory\n",
      "18/05/14 19:04:18 INFO client.RMProxy: Connecting to ResourceManager at /0.0.0.0:8032\n",
      "18/05/14 19:04:19 INFO client.RMProxy: Connecting to ResourceManager at /0.0.0.0:8032\n",
      "18/05/14 19:04:19 INFO mapred.FileInputFormat: Total input files to process : 1\n",
      "18/05/14 19:04:19 INFO mapreduce.JobSubmitter: number of splits:2\n",
      "18/05/14 19:04:19 INFO mapreduce.JobSubmitter: Submitting tokens for job: job_1526287196433_0013\n",
      "18/05/14 19:04:19 INFO impl.YarnClientImpl: Submitted application application_1526287196433_0013\n",
      "18/05/14 19:04:19 INFO mapreduce.Job: The url to track the job: http://55e59bd90628:8088/proxy/application_1526287196433_0013/\n",
      "18/05/14 19:04:19 INFO mapreduce.Job: Running job: job_1526287196433_0013\n",
      "18/05/14 19:04:24 INFO mapreduce.Job: Job job_1526287196433_0013 running in uber mode : false\n",
      "18/05/14 19:04:24 INFO mapreduce.Job:  map 0% reduce 0%\n",
      "18/05/14 19:04:41 INFO mapreduce.Job:  map 30% reduce 0%\n",
      "18/05/14 19:04:47 INFO mapreduce.Job:  map 46% reduce 0%\n",
      "18/05/14 19:04:53 INFO mapreduce.Job:  map 57% reduce 0%\n",
      "18/05/14 19:04:59 INFO mapreduce.Job:  map 67% reduce 0%\n",
      "18/05/14 19:05:03 INFO mapreduce.Job:  map 100% reduce 0%\n",
      "18/05/14 19:05:12 INFO mapreduce.Job:  map 100% reduce 13%\n",
      "18/05/14 19:05:13 INFO mapreduce.Job:  map 100% reduce 25%\n",
      "18/05/14 19:05:15 INFO mapreduce.Job:  map 100% reduce 50%\n",
      "18/05/14 19:05:16 INFO mapreduce.Job:  map 100% reduce 75%\n",
      "18/05/14 19:05:19 INFO mapreduce.Job:  map 100% reduce 100%\n",
      "18/05/14 19:05:19 INFO mapreduce.Job: Job job_1526287196433_0013 completed successfully\n",
      "18/05/14 19:05:19 INFO mapreduce.Job: Counters: 51\n",
      "\tFile System Counters\n",
      "\t\tFILE: Number of bytes read=243475435\n",
      "\t\tFILE: Number of bytes written=366548400\n",
      "\t\tFILE: Number of read operations=0\n",
      "\t\tFILE: Number of large read operations=0\n",
      "\t\tFILE: Number of write operations=0\n",
      "\t\tHDFS: Number of bytes read=76874501\n",
      "\t\tHDFS: Number of bytes written=5370513\n",
      "\t\tHDFS: Number of read operations=30\n",
      "\t\tHDFS: Number of large read operations=0\n",
      "\t\tHDFS: Number of write operations=16\n",
      "\tJob Counters \n",
      "\t\tKilled reduce tasks=1\n",
      "\t\tLaunched map tasks=2\n",
      "\t\tLaunched reduce tasks=8\n",
      "\t\tData-local map tasks=2\n",
      "\t\tTotal time spent by all maps in occupied slots (ms)=70914\n",
      "\t\tTotal time spent by all reduces in occupied slots (ms)=51683\n",
      "\t\tTotal time spent by all map tasks (ms)=70914\n",
      "\t\tTotal time spent by all reduce tasks (ms)=51683\n",
      "\t\tTotal vcore-milliseconds taken by all map tasks=70914\n",
      "\t\tTotal vcore-milliseconds taken by all reduce tasks=51683\n",
      "\t\tTotal megabyte-milliseconds taken by all map tasks=72615936\n",
      "\t\tTotal megabyte-milliseconds taken by all reduce tasks=52923392\n",
      "\tMap-Reduce Framework\n",
      "\t\tMap input records=4100\n",
      "\t\tMap output records=11937375\n",
      "\t\tMap output bytes=97842436\n",
      "\t\tMap output materialized bytes=121717292\n",
      "\t\tInput split bytes=228\n",
      "\t\tCombine input records=0\n",
      "\t\tCombine output records=0\n",
      "\t\tReduce input groups=427176\n",
      "\t\tReduce shuffle bytes=121717292\n",
      "\t\tReduce input records=11937375\n",
      "\t\tReduce output records=427175\n",
      "\t\tSpilled Records=35812125\n",
      "\t\tShuffled Maps =16\n",
      "\t\tFailed Shuffles=0\n",
      "\t\tMerged Map outputs=16\n",
      "\t\tGC time elapsed (ms)=1739\n",
      "\t\tCPU time spent (ms)=157250\n",
      "\t\tPhysical memory (bytes) snapshot=2345828352\n",
      "\t\tVirtual memory (bytes) snapshot=20218269696\n",
      "\t\tTotal committed heap usage (bytes)=1595408384\n",
      "\tShuffle Errors\n",
      "\t\tBAD_ID=0\n",
      "\t\tCONNECTION=0\n",
      "\t\tIO_ERROR=0\n",
      "\t\tWRONG_LENGTH=0\n",
      "\t\tWRONG_MAP=0\n",
      "\t\tWRONG_REDUCE=0\n",
      "\tWiki stats\n",
      "\t\tTotal words=11937375\n",
      "\tFile Input Format Counters \n",
      "\t\tBytes Read=76874273\n",
      "\tFile Output Format Counters \n",
      "\t\tBytes Written=5370513\n",
      "18/05/14 19:05:19 INFO streaming.StreamJob: Output directory: wordcount_result_1526324655557809\n",
      "rm: `wordcount_rev_1526324719613669': No such file or directory\n",
      "18/05/14 19:05:22 INFO client.RMProxy: Connecting to ResourceManager at /0.0.0.0:8032\n",
      "18/05/14 19:05:23 INFO client.RMProxy: Connecting to ResourceManager at /0.0.0.0:8032\n",
      "18/05/14 19:05:23 INFO mapred.FileInputFormat: Total input files to process : 8\n",
      "18/05/14 19:05:24 INFO mapreduce.JobSubmitter: number of splits:8\n",
      "18/05/14 19:05:24 INFO mapreduce.JobSubmitter: Submitting tokens for job: job_1526287196433_0014\n",
      "18/05/14 19:05:24 INFO impl.YarnClientImpl: Submitted application application_1526287196433_0014\n",
      "18/05/14 19:05:24 INFO mapreduce.Job: The url to track the job: http://55e59bd90628:8088/proxy/application_1526287196433_0014/\n",
      "18/05/14 19:05:24 INFO mapreduce.Job: Running job: job_1526287196433_0014\n",
      "18/05/14 19:05:30 INFO mapreduce.Job: Job job_1526287196433_0014 running in uber mode : false\n",
      "18/05/14 19:05:30 INFO mapreduce.Job:  map 0% reduce 0%\n",
      "18/05/14 19:05:36 INFO mapreduce.Job:  map 75% reduce 0%\n",
      "18/05/14 19:05:39 INFO mapreduce.Job:  map 100% reduce 0%\n",
      "18/05/14 19:05:42 INFO mapreduce.Job:  map 100% reduce 100%\n",
      "18/05/14 19:05:42 INFO mapreduce.Job: Job job_1526287196433_0014 completed successfully\n",
      "18/05/14 19:05:42 INFO mapreduce.Job: Counters: 49\n",
      "\tFile System Counters\n",
      "\t\tFILE: Number of bytes read=6224888\n",
      "\t\tFILE: Number of bytes written=13710258\n",
      "\t\tFILE: Number of read operations=0\n",
      "\t\tFILE: Number of large read operations=0\n",
      "\t\tFILE: Number of write operations=0\n",
      "\t\tHDFS: Number of bytes read=5371553\n",
      "\t\tHDFS: Number of bytes written=5370513\n",
      "\t\tHDFS: Number of read operations=27\n",
      "\t\tHDFS: Number of large read operations=0\n",
      "\t\tHDFS: Number of write operations=2\n",
      "\tJob Counters \n",
      "\t\tLaunched map tasks=8\n",
      "\t\tLaunched reduce tasks=1\n",
      "\t\tData-local map tasks=8\n",
      "\t\tTotal time spent by all maps in occupied slots (ms)=25441\n",
      "\t\tTotal time spent by all reduces in occupied slots (ms)=3799\n",
      "\t\tTotal time spent by all map tasks (ms)=25441\n",
      "\t\tTotal time spent by all reduce tasks (ms)=3799\n",
      "\t\tTotal vcore-milliseconds taken by all map tasks=25441\n",
      "\t\tTotal vcore-milliseconds taken by all reduce tasks=3799\n",
      "\t\tTotal megabyte-milliseconds taken by all map tasks=26051584\n",
      "\t\tTotal megabyte-milliseconds taken by all reduce tasks=3890176\n",
      "\tMap-Reduce Framework\n",
      "\t\tMap input records=427175\n",
      "\t\tMap output records=427175\n",
      "\t\tMap output bytes=5370522\n",
      "\t\tMap output materialized bytes=6224930\n",
      "\t\tInput split bytes=1040\n",
      "\t\tCombine input records=0\n",
      "\t\tCombine output records=0\n",
      "\t\tReduce input groups=2075\n",
      "\t\tReduce shuffle bytes=6224930\n",
      "\t\tReduce input records=427175\n",
      "\t\tReduce output records=427175\n",
      "\t\tSpilled Records=854350\n",
      "\t\tShuffled Maps =8\n",
      "\t\tFailed Shuffles=0\n",
      "\t\tMerged Map outputs=8\n",
      "\t\tGC time elapsed (ms)=1295\n",
      "\t\tCPU time spent (ms)=13110\n",
      "\t\tPhysical memory (bytes) snapshot=2540400640\n",
      "\t\tVirtual memory (bytes) snapshot=18093473792\n",
      "\t\tTotal committed heap usage (bytes)=1755316224\n",
      "\tShuffle Errors\n",
      "\t\tBAD_ID=0\n",
      "\t\tCONNECTION=0\n",
      "\t\tIO_ERROR=0\n",
      "\t\tWRONG_LENGTH=0\n",
      "\t\tWRONG_MAP=0\n",
      "\t\tWRONG_REDUCE=0\n",
      "\tFile Input Format Counters \n",
      "\t\tBytes Read=5370513\n",
      "\tFile Output Format Counters \n",
      "\t\tBytes Written=5370513\n",
      "18/05/14 19:05:42 INFO streaming.StreamJob: Output directory: wordcount_rev_1526324719613669\n",
      "cat: Unable to write to output stream.\n"
     ]
    }
   ],
   "source": [
    "%%bash\n",
    "\n",
    "OUT_DIR=\"wordcount_result_\"$(date +\"%s%6N\")\n",
    "NUM_REDUCERS=8\n",
    "\n",
    "hdfs dfs -rm -r -skipTrash ${OUT_DIR} > /dev/null\n",
    "\n",
    "yarn jar /opt/cloudera/parcels/CDH/lib/hadoop-mapreduce/hadoop-streaming.jar \\\n",
    "    -D mapred.jab.name=\"Streaming wordCount\" \\\n",
    "    -D mapreduce.job.reduces=${NUM_REDUCERS} \\\n",
    "    -files mapper.py,reducer.py \\\n",
    "    -mapper \"python mapper.py\" \\\n",
    "    -reducer \"python reducer.py\" \\\n",
    "    -input /data/wiki/en_articles_part \\\n",
    "    -output ${OUT_DIR} > /dev/null\n",
    "\n",
    "#hdfs dfs -cat ${OUT_DIR}/part-00000 | head\n",
    "\n",
    "OUT_DIR_REV=\"wordcount_rev_\"$(date +\"%s%6N\")\n",
    "NUM_REDUCERS=1\n",
    "\n",
    "hdfs dfs -rm -r -skipTrash ${OUT_DIR_REV} > /dev/null\n",
    "\n",
    "yarn jar /opt/cloudera/parcels/CDH/lib/hadoop-mapreduce/hadoop-streaming.jar \\\n",
    "    -D mapred.jab.name=\"Streaming rev\" \\\n",
    "    -D mapreduce.job.output.key.comparator.class=org.apache.hadoop.mapred.lib.KeyFieldBasedComparator \\\n",
    "    -D mapreduce.partition.keycomparator.options=-nr \\\n",
    "    -D mapreduce.job.reduces=${NUM_REDUCERS} \\\n",
    "    -files rx_mapper.py,rx_reducer.py \\\n",
    "    -mapper \"python rx_mapper.py\" \\\n",
    "    -reducer \"python rx_reducer.py\" \\\n",
    "    -input ${OUT_DIR} \\\n",
    "    -output ${OUT_DIR_REV} > /dev/null\n",
    "\n",
    "hdfs dfs -cat ${OUT_DIR_REV}/part-00000 | head -7 | tail -1"
   ]
  },
  {
   "cell_type": "code",
   "execution_count": null,
   "metadata": {},
   "outputs": [],
   "source": []
  }
 ],
 "metadata": {
  "kernelspec": {
   "display_name": "Python 2",
   "language": "python",
   "name": "python2"
  },
  "language_info": {
   "codemirror_mode": {
    "name": "ipython",
    "version": 2
   },
   "file_extension": ".py",
   "mimetype": "text/x-python",
   "name": "python",
   "nbconvert_exporter": "python",
   "pygments_lexer": "ipython2",
   "version": "2.7.12"
  }
 },
 "nbformat": 4,
 "nbformat_minor": 2
}

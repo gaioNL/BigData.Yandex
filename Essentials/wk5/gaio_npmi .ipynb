{
 "cells": [
  {
   "cell_type": "code",
   "execution_count": 2,
   "metadata": {},
   "outputs": [],
   "source": [
    "from pyspark import SparkConf, SparkContext\n",
    "sc = SparkContext(conf=SparkConf().setAppName(\"MyApp\").setMaster(\"local\"))\n",
    "\n",
    "import re\n",
    "\n",
    "def parse_article(line):\n",
    "    try:\n",
    "        article_id, text = unicode(line.rstrip()).split('\\t', 1)\n",
    "        text = re.sub(\"^\\W+|\\W+$\", \"\", text, flags=re.UNICODE)\n",
    "        words = re.split(\"\\W*\\s+\\W*\", text, flags=re.UNICODE)\n",
    "        return words\n",
    "    except ValueError as e:\n",
    "        return []"
   ]
  },
  {
   "cell_type": "markdown",
   "metadata": {},
   "source": [
    "#### Read the word file"
   ]
  },
  {
   "cell_type": "code",
   "execution_count": 5,
   "metadata": {},
   "outputs": [
    {
     "name": "stdout",
     "output_type": "stream",
     "text": [
      "Anarchism\n",
      "Anarchism\n",
      "is\n",
      "often\n",
      "defined\n",
      "as\n",
      "a\n",
      "political\n",
      "philosophy\n",
      "which\n"
     ]
    }
   ],
   "source": [
    "wiki = sc.textFile(\"/data/wiki/en_articles_part/articles-part\", 16).map(parse_article)\n",
    "result = wiki.take(1)[0]\n",
    "for word in result[:10]:\n",
    "    print word"
   ]
  },
  {
   "cell_type": "markdown",
   "metadata": {},
   "source": [
    "#### count the words"
   ]
  },
  {
   "cell_type": "code",
   "execution_count": 6,
   "metadata": {},
   "outputs": [
    {
     "name": "stdout",
     "output_type": "stream",
     "text": [
      "4100.0\n"
     ]
    }
   ],
   "source": [
    "#count the words\n",
    "num_words = float(wiki.count())\n",
    "print(num_words)"
   ]
  },
  {
   "cell_type": "markdown",
   "metadata": {},
   "source": [
    "#### transform them to lowercase"
   ]
  },
  {
   "cell_type": "code",
   "execution_count": 7,
   "metadata": {},
   "outputs": [
    {
     "name": "stdout",
     "output_type": "stream",
     "text": [
      "(u'anarchism', 1)\n",
      "(u'anarchism', 1)\n",
      "(u'is', 1)\n",
      "(u'often', 1)\n",
      "(u'defined', 1)\n",
      "(u'as', 1)\n",
      "(u'a', 1)\n",
      "(u'political', 1)\n",
      "(u'philosophy', 1)\n",
      "(u'which', 1)\n"
     ]
    }
   ],
   "source": [
    "wiki_flat = wiki.flatMap(lambda x: [(x[i].lower(),1) for i in range(0,len(x))])\n",
    "result = wiki_flat.take(10)\n",
    "for word in result[:10]:\n",
    "    print word"
   ]
  },
  {
   "cell_type": "markdown",
   "metadata": {},
   "source": [
    "#### Filter out stopwords & reduce the words"
   ]
  },
  {
   "cell_type": "code",
   "execution_count": 8,
   "metadata": {},
   "outputs": [
    {
     "name": "stdout",
     "output_type": "stream",
     "text": [
      "(u'biennials', 10)\n",
      "(u'underlyingly', 1)\n",
      "(u'ancyra', 43)\n",
      "(u'tripolitan', 2)\n",
      "(u'tilton', 4)\n",
      "(u'nordland', 1)\n",
      "(u'squealer', 8)\n",
      "(u'regularize', 2)\n",
      "(u'skylights.passive', 1)\n",
      "(u'thesis\"(kleene', 1)\n"
     ]
    }
   ],
   "source": [
    "stop_words = sc.textFile(\"/datasets/stop_words_en.txt\", 16)\n",
    "stop_words_data = stop_words.collect()\n",
    "broadcast_var = sc.broadcast(stop_words_data)\n",
    "wiki_filtered = wiki_flat.filter(lambda (x,y): x not in broadcast_var.value).reduceByKey(lambda x,y: x+y)\n",
    "result = wiki_filtered.take(10)\n",
    "for word in result[:10]:\n",
    "    print word"
   ]
  },
  {
   "cell_type": "markdown",
   "metadata": {},
   "source": [
    "#### compute words probability"
   ]
  },
  {
   "cell_type": "code",
   "execution_count": 9,
   "metadata": {},
   "outputs": [
    {
     "name": "stdout",
     "output_type": "stream",
     "text": [
      "(u'biennials', 0.0024390243902439024)\n",
      "(u'underlyingly', 0.00024390243902439024)\n",
      "(u'ancyra', 0.010487804878048781)\n",
      "(u'tripolitan', 0.0004878048780487805)\n",
      "(u'tilton', 0.000975609756097561)\n",
      "(u'nordland', 0.00024390243902439024)\n",
      "(u'squealer', 0.001951219512195122)\n",
      "(u'regularize', 0.0004878048780487805)\n",
      "(u'skylights.passive', 0.00024390243902439024)\n",
      "(u'thesis\"(kleene', 0.00024390243902439024)\n"
     ]
    }
   ],
   "source": [
    "wiki_filtered_p = wiki_filtered.map(lambda (x,y): (x,y/num_words))\n",
    "result = wiki_filtered_p.take(10)\n",
    "for word in result[:10]:\n",
    "    print word"
   ]
  },
  {
   "cell_type": "markdown",
   "metadata": {},
   "source": [
    "#### Compute the bigrams"
   ]
  },
  {
   "cell_type": "code",
   "execution_count": 12,
   "metadata": {},
   "outputs": [
    {
     "name": "stdout",
     "output_type": "stream",
     "text": [
      "((u'anarchism', u'anarchism'), 1)\n",
      "((u'anarchism', u'is'), 1)\n",
      "((u'is', u'often'), 1)\n",
      "((u'often', u'defined'), 1)\n",
      "((u'defined', u'as'), 1)\n",
      "((u'as', u'a'), 1)\n",
      "((u'a', u'political'), 1)\n",
      "((u'political', u'philosophy'), 1)\n",
      "((u'philosophy', u'which'), 1)\n",
      "((u'which', u'holds'), 1)\n"
     ]
    }
   ],
   "source": [
    "bigrams = wiki.flatMap(lambda x: [((x[i].lower(),x[i+1].lower()),1) for i in range(0,len(x)-1)])\n",
    "result = bigrams.take(10)\n",
    "for word in result[:10]:\n",
    "    print word"
   ]
  },
  {
   "cell_type": "markdown",
   "metadata": {},
   "source": [
    "#### Count the bigrams"
   ]
  },
  {
   "cell_type": "code",
   "execution_count": 13,
   "metadata": {},
   "outputs": [
    {
     "name": "stdout",
     "output_type": "stream",
     "text": [
      "11933217.0\n"
     ]
    }
   ],
   "source": [
    "num_bigrams = float(bigrams.count())\n",
    "print(num_bigrams)"
   ]
  },
  {
   "cell_type": "markdown",
   "metadata": {},
   "source": [
    "#### Filter out stopwords & reduce the bigrams"
   ]
  },
  {
   "cell_type": "code",
   "execution_count": null,
   "metadata": {},
   "outputs": [],
   "source": [
    "bigrams_filtered = bigrams.filter(lambda (x,y): x not in broadcast_var.value and y not in broadcast_var.value) \\\n",
    ".reduceByKey(lambda x,y: x+y)\n",
    "result = bigrams_filtered.take(10)\n",
    "for word in result[:10]:\n",
    "    print word"
   ]
  }
 ],
 "metadata": {
  "kernelspec": {
   "display_name": "Python 2",
   "language": "python",
   "name": "python2"
  },
  "language_info": {
   "codemirror_mode": {
    "name": "ipython",
    "version": 2
   },
   "file_extension": ".py",
   "mimetype": "text/x-python",
   "name": "python",
   "nbconvert_exporter": "python",
   "pygments_lexer": "ipython2",
   "version": "2.7.12"
  }
 },
 "nbformat": 4,
 "nbformat_minor": 2
}
